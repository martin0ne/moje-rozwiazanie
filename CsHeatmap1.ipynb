# Importowanie bibliotek
import pandas as pd
import matplotlib.pyplot as plt
import numpy as np
import seaborn as sns
from google.colab import drive
from ipywidgets import interact, widgets
from IPython.display import display, HTML

# Podłączenie Dysku Google
drive.mount('/content/drive')

# Ścieżka do pliku
file_path = '/content/drive/My Drive/BAZADANYCH2.xlsx'

# Załadowanie danych z pliku Excel
pracownicy_df = pd.read_excel(file_path, sheet_name=0)
stanowiska_df = pd.read_excel(file_path, sheet_name=1)
kompetencje_df = pd.read_excel(file_path, sheet_name=2)
wymagane_kompetencje_df = pd.read_excel(file_path, sheet_name=3)
aktualne_kompetencje_df = pd.read_excel(file_path, sheet_name=4)

# Funkcja do identyfikacji luk kompetencyjnych
def znajdz_luki_kompetencyjne():
    # Łączenie danych pracowników z ich stanowiskami
    pracownicy_stanowiska = pd.merge(
        pracownicy_df, 
        stanowiska_df, 
        on='ID Stanowiska', 
        suffixes=('', '_stanowisko')
    )
    
    # Łączenie z wymaganymi kompetencjami dla stanowisk
    wymagane = pd.merge(
        pracownicy_stanowiska[['ID Pracownika', 'Imię', 'Nazwisko', 'ID Stanowiska', 'Nazwa Stanowiska', 'Dział']], 
        wymagane_kompetencje_df, 
        on='ID Stanowiska'
    )
    
    # Łączenie z aktualnymi kompetencjami pracowników
    kompetencje = pd.merge(
        wymagane, 
        aktualne_kompetencje_df, 
        on=['ID Pracownika', 'ID Kompetencji'], 
        how='left'
    )
    
    # Dodanie nazw kompetencji
    kompetencje = pd.merge(
        kompetencje, 
        kompetencje_df[['ID Kompetencji', 'Nazwa Kompetencji', 'Kategoria']], 
        on='ID Kompetencji'
    )
    
    # Obliczenie luki kompetencyjnej
    kompetencje['Luka Kompetencyjna'] = kompetencje['Poziom Wymagany'] - kompetencje['Poziom Aktualny']
    
    return kompetencje

# Funkcja do generowania wykresu luk kompetencyjnych dla pracownika
def wykres_luk_pracownika(dane, id_pracownika):
    pracownik_data = dane[dane['ID Pracownika'] == id_pracownika]
    
    if pracownik_data.empty:
        return plt.figure()
    
    pracownik_info = f"{pracownik_data['Imię'].iloc[0]} {pracownik_data['Nazwisko'].iloc[0]} - {pracownik_data['Nazwa Stanowiska'].iloc[0]}"
    
    fig, ax = plt.subplots(figsize=(12, 6))
    
    kompetencje = pracownik_data['Nazwa Kompetencji']
    poziom_wymagany = pracownik_data['Poziom Wymagany']
    poziom_aktualny = pracownik_data['Poziom Aktualny']
    
    x = np.arange(len(kompetencje))
    width = 0.35
    
    ax.bar(x - width/2, poziom_wymagany, width, label='Poziom Wymagany', color='skyblue')
    ax.bar(x + width/2, poziom_aktualny, width, label='Poziom Aktualny', color='lightgreen')
    
    # Dodanie etykiet luk kompetencyjnych
    for i, (wymagany, aktualny) in enumerate(zip(poziom_wymagany, poziom_aktualny)):
        luka = wymagany - aktualny
        if luka > 0:
            ax.text(i, min(wymagany, aktualny) + 0.1, f'Luka: {luka}', ha='center', va='bottom', color='red', fontweight='bold')
    
    ax.set_xlabel('Kompetencje')
    ax.set_ylabel('Poziom')
    ax.set_title(f'Analiza kompetencji: {pracownik_info}')
    ax.set_xticks(x)
    ax.set_xticklabels(kompetencje, rotation=45, ha='right')
    ax.legend()
    ax.set_ylim(0, 6)
    
    plt.tight_layout()
    return fig

# Funkcja do generowania wykresu średnich luk kompetencyjnych dla działu
def wykres_luk_dzialu(dane, dzial):
    dzial_data = dane[dane['Dział'] == dzial]
    
    if dzial_data.empty:
        return plt.figure()
    
    # Obliczenie średnich luk kompetencyjnych dla działu
    srednie_luki = dzial_data.groupby('Nazwa Kompetencji')['Luka Kompetencyjna'].mean().reset_index()
    srednie_luki = srednie_luki.sort_values('Luka Kompetencyjna', ascending=False)
    
    fig, ax = plt.subplots(figsize=(12, 6))
    
    bars = ax.bar(srednie_luki['Nazwa Kompetencji'], srednie_luki['Luka Kompetencyjna'], color='salmon')
    
    ax.set_xlabel('Kompetencje')
    ax.set_ylabel('Średnia luka kompetencyjna')
    ax.set_title(f'Średnie luki kompetencyjne w dziale: {dzial}')
    ax.set_xticklabels(srednie_luki['Nazwa Kompetencji'], rotation=45, ha='right')
    
    # Dodanie wartości nad słupkami
    for bar in bars:
        height = bar.get_height()
        ax.text(bar.get_x() + bar.get_width()/2., height + 0.05,
                f'{height:.2f}', ha='center', va='bottom')
    
    plt.tight_layout()
    return fig

# Funkcja do generowania heatmapy luk kompetencyjnych
def heatmapa_luk(dane):
    # Przygotowanie danych do heatmapy
    heatmap_data = dane.pivot_table(
        index=['Imię', 'Nazwisko'], 
        columns='Nazwa Kompetencji', 
        values='Luka Kompetencyjna',
        aggfunc='mean'
    ).fillna(0)
    
    fig, ax = plt.subplots(figsize=(14, 8))
    
    # Generowanie heatmapy
    sns.heatmap(heatmap_data, cmap='RdYlGn_r', linewidths=0.5, ax=ax, 
                cbar_kws={'label': 'Luka kompetencyjna'})
    
    ax.set_title('Heatmapa luk kompetencyjnych pracowników')
    plt.tight_layout()
    return fig

# Funkcja do generowania raportu luk kompetencyjnych
def generuj_raport_luk(dane, min_luka=0):
    # Filtrowanie danych według minimalnej luki
    raport_data = dane[dane['Luka Kompetencyjna'] >= min_luka].copy()
    
    if raport_data.empty:
        return "Brak luk kompetencyjnych spełniających kryteria."
    
    # Sortowanie według wielkości luki
    raport_data = raport_data.sort_values('Luka Kompetencyjna', ascending=False)
    
    # Wybór potrzebnych kolumn i zmiana nazw
    raport = raport_data[[
        'ID Pracownika', 'Imię', 'Nazwisko', 'Nazwa Stanowiska', 'Dział',
        'Nazwa Kompetencji', 'Kategoria', 'Poziom Wymagany', 'Poziom Aktualny', 'Luka Kompetencyjna'
    ]]
    
    return raport

# Funkcja do rekomendacji szkoleń
def rekomenduj_szkolenia(dane, min_luka=1):
    # Filtrowanie danych według minimalnej luki
    szkolenia_data = dane[dane['Luka Kompetencyjna'] >= min_luka].copy()
    
    if szkolenia_data.empty:
        return "Brak rekomendacji szkoleniowych spełniających kryteria."
    
    # Grupowanie według kompetencji i liczenie pracowników z luką
    szkolenia = szkolenia_data.groupby(['Nazwa Kompetencji', 'Kategoria']).agg(
        Liczba_Pracownikow=('ID Pracownika', 'nunique'),
        Srednia_Luka=('Luka Kompetencyjna', 'mean')
    ).reset_index().sort_values('Liczba_Pracownikow', ascending=False)
    
    # Dodanie listy pracowników potrzebujących szkolenia
    szkolenia['Pracownicy'] = szkolenia.apply(
        lambda row: ", ".join(
            szkolenia_data[
                (szkolenia_data['Nazwa Kompetencji'] == row['Nazwa Kompetencji'])
            ].apply(lambda x: f"{x['Imię']} {x['Nazwisko']} (luka: {x['Luka Kompetencyjna']})", axis=1)
        ), 
        axis=1
    )
    
    return szkolenia

# Główna funkcja do analizy luk kompetencyjnych
def analizuj_luki_kompetencyjne(
    dzial=None, 
    stanowisko=None, 
    pracownik=None, 
    kompetencja=None, 
    kategoria=None, 
    min_luka=0
):
    # Pobranie danych o lukach kompetencyjnych
    dane = znajdz_luki_kompetencyjne()
    
    # Filtrowanie danych
    filtered_data = dane.copy()
    
    if dzial and dzial != 'Wszystkie':
        filtered_data = filtered_data[filtered_data['Dział'] == dzial]
    
    if stanowisko and stanowisko != 'Wszystkie':
        filtered_data = filtered_data[filtered_data['Nazwa Stanowiska'] == stanowisko]
    
    if pracownik and pracownik != 'Wszystkie':
        id_pracownika = int(pracownik.split()[0])
        filtered_data = filtered_data[filtered_data['ID Pracownika'] == id_pracownika]
    
    if kompetencja and kompetencja != 'Wszystkie':
        filtered_data = filtered_data[filtered_data['Nazwa Kompetencji'] == kompetencja]
    
    if kategoria and kategoria != 'Wszystkie':
        filtered_data = filtered_data[filtered_data['Kategoria'] == kategoria]
    
    if min_luka > 0:
        filtered_data = filtered_data[filtered_data['Luka Kompetencyjna'] >= min_luka]
    
    return filtered_data

# Interfejs użytkownika

def interfejs_uzytkownika():
    # Pobranie danych
    dane = znajdz_luki_kompetencyjne()
    
    # Przygotowanie list do filtrów
    dzialy = ['Wszystkie'] + sorted(dane['Dział'].unique().tolist())
    stanowiska = ['Wszystkie'] + sorted(dane['Nazwa Stanowiska'].unique().tolist())
    
    # Usunięcie duplikatów pracowników i sortowanie według ID
    pracownicy = ['Wszystkie'] + sorted(
        list(set([
            f"{id_} {imie} {nazwisko}" 
            for id_, imie, nazwisko in zip(dane['ID Pracownika'], dane['Imię'], dane['Nazwisko'])
        ])),
        key=lambda x: int(x.split()[0])  # Sortowanie według ID
    )
    
    kompetencje = ['Wszystkie'] + sorted(dane['Nazwa Kompetencji'].unique().tolist())
    kategorie = ['Wszystkie'] + sorted(dane['Kategoria'].unique().tolist())
    
    # Tworzenie widgetów
    dzial_dropdown = widgets.Dropdown(options=dzialy, description='Dział:')
    stanowisko_dropdown = widgets.Dropdown(options=stanowiska, description='Stanowisko:')
    pracownik_dropdown = widgets.Dropdown(options=pracownicy, description='Pracownik:')
    kompetencja_dropdown = widgets.Dropdown(options=kompetencje, description='Kompetencja:')
    kategoria_dropdown = widgets.Dropdown(options=kategorie, description='Kategoria:')
    min_luka_slider = widgets.IntSlider(min=0, max=5, step=1, value=1, description='Min. luka:')
    
    # Funkcja do aktualizacji wyników
    

    
    # Tworzenie interaktywnego widgetu
    interact(
        update_results,
        dzial=dzial_dropdown,
        stanowisko=stanowisko_dropdown,
        pracownik=pracownik_dropdown,
        kompetencja=kompetencja_dropdown,
        kategoria=kategoria_dropdown,
        min_luka=min_luka_slider
    )



# Uruchomienie interfejsu użytkownika
interfejs_uzytkownika()
